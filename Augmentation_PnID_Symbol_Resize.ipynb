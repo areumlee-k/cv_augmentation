{
 "cells": [
  {
   "cell_type": "code",
   "execution_count": null,
   "metadata": {},
   "outputs": [],
   "source": [
    "import Augmentor\n",
    "from Augmentor import Operations\n",
    "import os, glob"
   ]
  },
  {
   "cell_type": "code",
   "execution_count": null,
   "metadata": {},
   "outputs": [],
   "source": [
    "\n",
    "folder_name = sorted(glob.glob(\"/home/secl00/Data/pnidsymbol/*\"))\n",
    "\n",
    "for path_name in folder_name:\n",
    "    img = Augmentor.Pipeline(path_name)\n",
    "    img.scale_h(probability=1.0, min_scale_factor=0.9 , max_scale_factor=1.1, num=5,binary_threshold=170)\n",
    "\n",
    "    img.process()"
   ]
  }
 ],
 "metadata": {
  "kernelspec": {
   "display_name": "Python 3",
   "language": "python",
   "name": "python3"
  },
  "language_info": {
   "codemirror_mode": {
    "name": "ipython",
    "version": 3
   },
   "file_extension": ".py",
   "mimetype": "text/x-python",
   "name": "python",
   "nbconvert_exporter": "python",
   "pygments_lexer": "ipython3",
   "version": "3.7.3"
  }
 },
 "nbformat": 4,
 "nbformat_minor": 2
}
